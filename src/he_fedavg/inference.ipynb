{
 "cells": [
  {
   "cell_type": "code",
   "execution_count": 10,
   "metadata": {},
   "outputs": [],
   "source": [
    "import torch\n",
    "from torchvision import datasets, transforms\n",
    "import torch.nn as nn\n",
    "from torch.utils.data import Dataset\n",
    "from tqdm import tqdm\n",
    "import json\n",
    "from pathlib import Path\n",
    "\n",
    "\n",
    "def load_mnist_data(batch_size: int = 64):\n",
    "    transform = transforms.Compose(\n",
    "        [transforms.ToTensor(), transforms.Normalize((0.5,), (0.5,))]\n",
    "    )\n",
    "\n",
    "    trainset = datasets.MNIST(\n",
    "        \"../../data/\", download=True, train=True, transform=transform\n",
    "    )\n",
    "    \n",
    "    testset = datasets.MNIST(\n",
    "        \"../../data/\", download=True, train=False, transform=transform\n",
    "    )\n",
    "    \n",
    "    return trainset, testset\n",
    "\n",
    "\n",
    "class SimpleMNISTModel(nn.Module):\n",
    "    def __init__(self, input_size=784, hidden_size=128, output_size=10):\n",
    "        super(SimpleMNISTModel, self).__init__()\n",
    "        self.fc1 = nn.Linear(input_size, hidden_size, bias=False)\n",
    "        self.relu = nn.ReLU()\n",
    "        self.fc2 = nn.Linear(hidden_size, output_size, bias=False)\n",
    "\n",
    "    def forward(self, x):\n",
    "        x = torch.flatten(x, 1)\n",
    "        x = self.fc1(x)\n",
    "        x = self.relu(x)\n",
    "        return self.fc2(x)"
   ]
  },
  {
   "cell_type": "code",
   "execution_count": 25,
   "metadata": {},
   "outputs": [],
   "source": [
    "# load a binary file\n",
    "def load_data_from_json(weights_path: Path) -> SimpleMNISTModel:\n",
    "    # Load weights from JSON\n",
    "    with open(weights_path, 'r') as f:\n",
    "        weight_data = json.load(f)\n",
    "    \n",
    "    return weight_data\n",
    "\n",
    "def load_model() -> SimpleMNISTModel:\n",
    "    # Load weights from JSON\n",
    "    fc1 = load_data_from_json(Path(\"../../weights/mnist/avgDecryptedFC1.json\"))\n",
    "    fc2 = load_data_from_json(Path(\"../../weights/mnist/avgDecryptedFC2.json\"))\n",
    "    \n",
    "    # Create model with same architecture\n",
    "    model = SimpleMNISTModel()\n",
    "    \n",
    "    # Convert weights back to tensors and load into model\n",
    "    fc1_weights = torch.tensor(fc1)\n",
    "    fc2_weights = torch.tensor(fc2)\n",
    "    \n",
    "    print(fc1_weights.shape)\n",
    "    print(fc2_weights.shape)\n",
    "    \n",
    "    model.fc1.weight.data = fc1_weights.reshape(128, 784)\n",
    "    model.fc2.weight.data = fc2_weights[:1280].reshape(10, 128)\n",
    "    \n",
    "    return model"
   ]
  },
  {
   "cell_type": "code",
   "execution_count": 26,
   "metadata": {},
   "outputs": [
    {
     "name": "stdout",
     "output_type": "stream",
     "text": [
      "torch.Size([100352])\n",
      "torch.Size([32768])\n"
     ]
    },
    {
     "data": {
      "text/plain": [
       "torch.Size([10, 128])"
      ]
     },
     "execution_count": 26,
     "metadata": {},
     "output_type": "execute_result"
    }
   ],
   "source": [
    "load_model().fc2.weight.data.shape"
   ]
  },
  {
   "cell_type": "code",
   "execution_count": 27,
   "metadata": {},
   "outputs": [],
   "source": [
    "def evaluate_model(test_set: Dataset, device='cpu'):\n",
    "    test_loader = torch.utils.data.DataLoader(\n",
    "        test_set, batch_size=64, shuffle=False, num_workers=2\n",
    "    )\n",
    "    model = load_model()\n",
    "    model.eval()  # Set the model to evaluation mode\n",
    "    correct = 0\n",
    "    total = 0\n",
    "    \n",
    "    with torch.no_grad():  # Disable gradient computation\n",
    "        for inputs, labels in tqdm(test_loader, desc=\"Evaluating\"):\n",
    "            inputs, labels = inputs.to(device), labels.to(device)\n",
    "            outputs = model(inputs)\n",
    "            _, predicted = torch.max(outputs.data, 1)\n",
    "            total += labels.size(0)\n",
    "            correct += (predicted == labels).sum().item()\n",
    "    \n",
    "    accuracy = 100 * correct / total\n",
    "    print(f'Accuracy on test set: {accuracy:.2f}%')\n",
    "    return accuracy"
   ]
  },
  {
   "cell_type": "code",
   "execution_count": 28,
   "metadata": {},
   "outputs": [
    {
     "name": "stdout",
     "output_type": "stream",
     "text": [
      "torch.Size([100352])\n",
      "torch.Size([32768])\n"
     ]
    },
    {
     "name": "stderr",
     "output_type": "stream",
     "text": [
      "Evaluating: 100%|██████████| 157/157 [00:03<00:00, 50.32it/s]"
     ]
    },
    {
     "name": "stdout",
     "output_type": "stream",
     "text": [
      "Accuracy on test set: 82.75%\n"
     ]
    },
    {
     "name": "stderr",
     "output_type": "stream",
     "text": [
      "\n"
     ]
    },
    {
     "data": {
      "text/plain": [
       "82.75"
      ]
     },
     "execution_count": 28,
     "metadata": {},
     "output_type": "execute_result"
    }
   ],
   "source": [
    "_, test_set = load_mnist_data()\n",
    "evaluate_model(test_set)"
   ]
  },
  {
   "cell_type": "code",
   "execution_count": null,
   "metadata": {},
   "outputs": [],
   "source": []
  }
 ],
 "metadata": {
  "kernelspec": {
   "display_name": ".venv",
   "language": "python",
   "name": "python3"
  },
  "language_info": {
   "codemirror_mode": {
    "name": "ipython",
    "version": 3
   },
   "file_extension": ".py",
   "mimetype": "text/x-python",
   "name": "python",
   "nbconvert_exporter": "python",
   "pygments_lexer": "ipython3",
   "version": "3.12.6"
  }
 },
 "nbformat": 4,
 "nbformat_minor": 2
}
